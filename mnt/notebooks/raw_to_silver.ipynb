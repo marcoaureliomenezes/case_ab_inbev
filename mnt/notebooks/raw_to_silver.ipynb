{
 "cells": [
  {
   "cell_type": "code",
   "execution_count": 1,
   "id": "8d5a239b-27e4-4d60-970b-c4795bbad3fd",
   "metadata": {},
   "outputs": [
    {
     "name": "stdout",
     "output_type": "stream",
     "text": [
      "http://nessie:19120/api/v1\n",
      "3LNgUSmA7iyoJOpHWkPz\n",
      "seN7XdzJW6mGdz0EAZVffJ9to37yf1YZJ8aI6AFP\n",
      "http://minio:9000\n",
      ":: loading settings :: url = jar:file:/opt/bitnami/spark/jars/ivy-2.5.1.jar!/org/apache/ivy/core/settings/ivysettings.xml\n"
     ]
    },
    {
     "name": "stderr",
     "output_type": "stream",
     "text": [
      "Ivy Default Cache set to: /root/.ivy2/cache\n",
      "The jars for the packages stored in: /root/.ivy2/jars\n",
      "org.apache.iceberg#iceberg-spark-runtime-3.5_2.12 added as a dependency\n",
      "org.projectnessie.nessie-integrations#nessie-spark-extensions-3.5_2.12 added as a dependency\n",
      "software.amazon.awssdk#bundle added as a dependency\n",
      "software.amazon.awssdk#url-connection-client added as a dependency\n",
      ":: resolving dependencies :: org.apache.spark#spark-submit-parent-e1315685-0554-4186-bc71-647254335519;1.0\n",
      "\tconfs: [default]\n",
      "\tfound org.apache.iceberg#iceberg-spark-runtime-3.5_2.12;1.6.1 in central\n",
      "\tfound org.projectnessie.nessie-integrations#nessie-spark-extensions-3.5_2.12;0.99.0 in central\n",
      "\tfound software.amazon.awssdk#bundle;2.28.13 in central\n",
      "\tfound software.amazon.awssdk#url-connection-client;2.28.13 in central\n",
      "\tfound software.amazon.awssdk#utils;2.28.13 in central\n",
      "\tfound org.reactivestreams#reactive-streams;1.0.4 in central\n",
      "\tfound software.amazon.awssdk#annotations;2.28.13 in central\n",
      "\tfound org.slf4j#slf4j-api;1.7.36 in central\n",
      "\tfound software.amazon.awssdk#http-client-spi;2.28.13 in central\n",
      "\tfound software.amazon.awssdk#metrics-spi;2.28.13 in central\n",
      ":: resolution report :: resolve 1783ms :: artifacts dl 15ms\n",
      "\t:: modules in use:\n",
      "\torg.apache.iceberg#iceberg-spark-runtime-3.5_2.12;1.6.1 from central in [default]\n",
      "\torg.projectnessie.nessie-integrations#nessie-spark-extensions-3.5_2.12;0.99.0 from central in [default]\n",
      "\torg.reactivestreams#reactive-streams;1.0.4 from central in [default]\n",
      "\torg.slf4j#slf4j-api;1.7.36 from central in [default]\n",
      "\tsoftware.amazon.awssdk#annotations;2.28.13 from central in [default]\n",
      "\tsoftware.amazon.awssdk#bundle;2.28.13 from central in [default]\n",
      "\tsoftware.amazon.awssdk#http-client-spi;2.28.13 from central in [default]\n",
      "\tsoftware.amazon.awssdk#metrics-spi;2.28.13 from central in [default]\n",
      "\tsoftware.amazon.awssdk#url-connection-client;2.28.13 from central in [default]\n",
      "\tsoftware.amazon.awssdk#utils;2.28.13 from central in [default]\n",
      "\t---------------------------------------------------------------------\n",
      "\t|                  |            modules            ||   artifacts   |\n",
      "\t|       conf       | number| search|dwnlded|evicted|| number|dwnlded|\n",
      "\t---------------------------------------------------------------------\n",
      "\t|      default     |   10  |   0   |   0   |   0   ||   10  |   0   |\n",
      "\t---------------------------------------------------------------------\n",
      ":: retrieving :: org.apache.spark#spark-submit-parent-e1315685-0554-4186-bc71-647254335519\n",
      "\tconfs: [default]\n",
      "\t0 artifacts copied, 10 already retrieved (0kB/13ms)\n",
      "24/10/21 02:30:08 WARN NativeCodeLoader: Unable to load native-hadoop library for your platform... using builtin-java classes where applicable\n",
      "Setting default log level to \"WARN\".\n",
      "To adjust logging level use sc.setLogLevel(newLevel). For SparkR, use setLogLevel(newLevel).\n"
     ]
    }
   ],
   "source": [
    "from utils.spark_utils import get_spark_session\n",
    "import os\n",
    "\n",
    "spark = get_spark_session(\"iceberg_DDL\")"
   ]
  },
  {
   "cell_type": "code",
   "execution_count": 2,
   "id": "aad4d623-ea01-42a1-889e-f8df89dba3f2",
   "metadata": {},
   "outputs": [
    {
     "name": "stderr",
     "output_type": "stream",
     "text": [
      "                                                                                \r"
     ]
    },
    {
     "name": "stdout",
     "output_type": "stream",
     "text": [
      "+--------------------+---------+---------+------------+-------------+-------------+--------------------+------------------+------------------+-----------------------------+-------------+-----------+---------------+---------------+--------------------+--------------------+\n",
      "|           address_1|address_2|address_3|brewery_type|         city|      country|                  id|          latitude|         longitude|                         name|        phone|postal_code|          state| state_province|              street|         website_url|\n",
      "+--------------------+---------+---------+------------+-------------+-------------+--------------------+------------------+------------------+-----------------------------+-------------+-----------+---------------+---------------+--------------------+--------------------+\n",
      "|   95 Zion Park Blvd|     NULL|     NULL|     brewpub|   Springdale|United States|f4585ffb-ad5d-4fb...|       37.16063318|      -113.0358484|         Zion Canyon Brewi...|   4357720404| 84767-0420|           Utah|           Utah|   95 Zion Park Blvd|http://www.zionca...|\n",
      "|             Zipf 22|     NULL|     NULL|       large|         Zipf|      Austria|def4c1dd-dfdb-42f...|48.036812902437156|13.503957656337409|         Zipfer Brauerei (...|  +4376823600|       4871| Oberösterreich| Oberösterreich|             Zipf 22|https://www.zipfe...|\n",
      "|2100 Magnum Cir S...|     NULL|     NULL|       micro|      Lincoln|United States|538095f5-33b7-457...|        40.8117948|       -96.7512302|           Zipline Brewing Co|   4024751001| 68522-1027|       Nebraska|       Nebraska|2100 Magnum Cir S...|http://www.ziplin...|\n",
      "|    5716 SE 92nd Ave|     NULL|     NULL|     brewpub|     Portland|United States|68529922-1b8d-462...|        45.4808905|      -122.5679347|         Zoiglhaus Brewing...|   9713392374| 97266-4659|         Oregon|         Oregon|    5716 SE 92nd Ave|http://www.zoiglh...|\n",
      "|1450 Tollhouse Rd...|     NULL|     NULL|       micro|       Clovis|United States|0b194fbf-8dd6-4a8...|       36.82610331|      -119.6906567|         Zone 9 Brewing Co...|   5592600539| 93611-0503|     California|     California|1450 Tollhouse Rd...|                NULL|\n",
      "|        605 E 9th St|     NULL|     NULL|       micro|Michigan City|United States|ec83629b-2f5d-4fa...|         41.714577|      -86.89216786|              Zorn Brew Works|   2193316322| 46360-3651|        Indiana|        Indiana|        605 E 9th St|http://www.zornbr...|\n",
      "|      7 Cours Gouffé|     NULL|     NULL|       micro|    Marseille|       France|b636a9f8-4caa-41e...|       43.28642888|        5.38658404|                       Zoumaï|    953870379|      13005|Bouche du Rhône|Bouche du Rhône|      7 Cours Gouffé|https://www.brass...|\n",
      "|    3232 E Monroe St|     NULL|     NULL|       micro|     Waukegan|United States|81c373d3-cacc-4f6...|              NULL|              NULL|                     Zum Bier|   8474207313|      60085|       Illinois|       Illinois|    3232 E Monroe St|http://www.zumbie...|\n",
      "|     2355 W 29th Ave|     NULL|     NULL|       micro|       Denver|United States|95f923e4-e98a-498...|        39.7585929|       -105.015409|         Zuni Street Brewi...|   3038626525| 80211-3753|       Colorado|       Colorado|     2355 W 29th Ave|http://www.zunist...|\n",
      "|  1038 Lafayette Ave|     NULL|     NULL|     brewpub|     Columbus|United States|720a84ad-c18f-418...|       39.20865674|      -85.91883647|             ZwanzigZ Brewing|   8123760200| 47201-5756|        Indiana|        Indiana|  1038 Lafayette Ave|http://www.zwanzi...|\n",
      "|4612 S Mason St S...|     NULL|     NULL|       micro| Fort Collins|United States|a602e9ea-f0b3-4a4...|              NULL|              NULL|              Zwei Brewing Co|   9702232482| 80525-3794|       Colorado|       Colorado|4612 S Mason St S...|http://www.zweibr...|\n",
      "|      1902 E 7th Ave|     NULL|     NULL|     brewpub|        Tampa|United States|8d18da7a-1ed9-4eb...|        27.9603438|      -82.43783229|            Zydeco Brew Werks|   8132524541| 33605-3810|        Florida|        Florida|      1902 E 7th Ave|                NULL|\n",
      "|  5180 S Lowell Blvd|     NULL|     NULL|       micro|    Littleton|United States|aabc26d3-4870-42e...|        39.6229711|      -105.0346064|                Zymos Brewing|   7206645280|      80123|       Colorado|       Colorado|  5180 S Lowell Blvd|http://zymosbrewi...|\n",
      "| 4624 Creek Dr Ste 6|     NULL|     NULL|       micro|   Rapid City|United States|82234375-c7fa-420...|       44.03811547|      -103.1795198|         Zymurcracy Beer C...|   6057910411| 57701-2165|   South Dakota|   South Dakota| 4624 Creek Dr Ste 6|http://www.zymurc...|\n",
      "|22755 Hawthorne Blvd|     NULL|     NULL|       micro|     Torrance|United States|e9d9a4ad-9583-4b0...|        33.8635371|      -118.3524672|           Zymurgy Brew Works|   3106502474| 90505-3613|     California|     California|22755 Hawthorne Blvd|http://www.zymurg...|\n",
      "|625-1, Mungyeong-...|     NULL|     NULL|     brewpub| Mungyeong-si|  South Korea|e7d32af9-f5c5-469...|       36.61483553|       128.1563317| 가나다라브루어리(Ganadara...|070-7799-2428|      36989|Gyeongsangbukdo|Gyeongsangbukdo|625-1, Mungyeong-...|http://www.ganada...|\n",
      "|260, Pyeonggang-r...|     NULL|     NULL|       micro|   Gangseo-gu|  South Korea|438dfe94-c54a-49a...|       35.20811413|       128.9441073|   갈매기 브루잉(Galmegi B...| 051-611-9658|      46704|          Busan|          Busan|260, Pyeonggang-r...|https://www.galme...|\n",
      "|         163, Sau-ro|     NULL|     NULL|     brewpub| Chuncheon-si|  South Korea|63fc12a0-bbb7-4bd...|       37.90739745|        127.742945|   감자아일랜드(Gamja Island)|070-8098-0621|      24220|      Gangwondo|      Gangwondo|         163, Sau-ro|http://gamjaislan...|\n",
      "|9,Yulgokchogyo-gi...|     NULL|     NULL|     brewpub| Gangneung-si|  South Korea|2068d17b-bcaa-442...|       37.76757831|       128.8797275|강릉브루어리 바이 현 (Gang...| 033-655-1357|      25510|      Gangwondo|      Gangwondo|9,Yulgokchogyo-gi...|http://instagram....|\n",
      "|    125, Gwangnam-ro|     NULL|     NULL|     brewpub|   Suyeong-gu|  South Korea|3aa64cd7-7e03-4d5...|       35.15273431|       129.1161812|   고릴라 브루잉(Gorilla B...|070-4837-6258|      48299|          Busan|          Busan|    125, Gwangnam-ro|http://www.gorill...|\n",
      "+--------------------+---------+---------+------------+-------------+-------------+--------------------+------------------+------------------+-----------------------------+-------------+-----------+---------------+---------------+--------------------+--------------------+\n",
      "only showing top 20 rows\n",
      "\n"
     ]
    }
   ],
   "source": [
    "from pyspark.sql.functions import col, concat_ws, when\n",
    "from pyspark.sql.types import StringType\n",
    "\n",
    "\n",
    "\n",
    "class BronzeToSilver:\n",
    "\n",
    "  def __init__(self, path_bronze, silver_tablename)\n",
    "    self.path_bronze = path_bronze\n",
    "    self.silver_tablename = silver_tablename\n",
    "\n",
    "\n",
    "  def configure_path(self, execution_datetime):\n",
    "    partition_level = \"year=<year>/month=<month>/day=<day>/hour=<hour>\"\n",
    "    partition_level = partition_level.replace(\"<year>\", str(execution_datetime.year))\n",
    "    partition_level = partition_level.replace(\"<month>\", str(execution_datetime.month))\n",
    "    partition_level = partition_level.replace(\"<day>\", str(execution_datetime.day))\n",
    "    partition_level = partition_level.replace(\"<hour>\", str(execution_datetime.hour))\n",
    "    self.total_path = f\"{self.raw_data_path}/{partition_level}\"\n",
    "\n",
    "  def read_partition(self, path, date):\n",
    "    assert self.total_path is not None, \"You must configure total_path using configure_path method\"\n",
    "    print(total_path)\n",
    "    return (\n",
    "      spark.read\n",
    "        .format('json')\n",
    "        .option(\"compression\", \"gzip\")\n",
    "        .load(total_path)\n",
    "    )\n",
    "\n",
    "\n",
    "  def handle_addresses(self, df):\n",
    "    return (\n",
    "        df.withColumn(\"address\", concat_ws(\", \", col(\"address_1\"), col(\"address_2\"), col(\"address_3\")))\n",
    "            .drop(\"address_1\", \"address_2\", \"address_3\")\n",
    "    )\n",
    "\n",
    "\n",
    "\n",
    "  # format = \"\"\n",
    "\n",
    "execution_datetime = \"2024-10-21 01:00:00+00:00\"\n",
    "dt_odatetime = dt.strptime(execution_datetime, '%Y-%m-%d %H:%M:%S%z')\n",
    "\n",
    "silver_tablename = \"nessie.silver.breweries\"\n",
    "path_bronze = \"s3a://breweries/bronze\"\n",
    "\n",
    "obj = BronzeToSilver(path_bronze, path_bronze, \n",
    "path = \n",
    "path = \"s3a://breweries/bronze/year=2024/month=10/day=21/hour=01/*\"\n",
    "df = read_partition(path)\n",
    "df.show()"
   ]
  },
  {
   "cell_type": "code",
   "execution_count": 3,
   "id": "35068015-fa94-4331-84a9-cd30d760195d",
   "metadata": {},
   "outputs": [
    {
     "name": "stdout",
     "output_type": "stream",
     "text": [
      "root\n",
      " |-- address_1: string (nullable = true)\n",
      " |-- address_2: string (nullable = true)\n",
      " |-- address_3: string (nullable = true)\n",
      " |-- brewery_type: string (nullable = true)\n",
      " |-- city: string (nullable = true)\n",
      " |-- country: string (nullable = true)\n",
      " |-- id: string (nullable = true)\n",
      " |-- latitude: string (nullable = true)\n",
      " |-- longitude: string (nullable = true)\n",
      " |-- name: string (nullable = true)\n",
      " |-- phone: string (nullable = true)\n",
      " |-- postal_code: string (nullable = true)\n",
      " |-- state: string (nullable = true)\n",
      " |-- state_province: string (nullable = true)\n",
      " |-- street: string (nullable = true)\n",
      " |-- website_url: string (nullable = true)\n",
      "\n"
     ]
    }
   ],
   "source": [
    "df.printSchema()"
   ]
  },
  {
   "cell_type": "code",
   "execution_count": 14,
   "id": "02540139-fb74-404b-a4f0-19a2f185b727",
   "metadata": {},
   "outputs": [
    {
     "name": "stdout",
     "output_type": "stream",
     "text": [
      "root\n",
      " |-- brewery_type: string (nullable = true)\n",
      " |-- city: string (nullable = true)\n",
      " |-- country: string (nullable = true)\n",
      " |-- id: string (nullable = true)\n",
      " |-- latitude: string (nullable = true)\n",
      " |-- longitude: string (nullable = true)\n",
      " |-- name: string (nullable = true)\n",
      " |-- phone: string (nullable = true)\n",
      " |-- postal_code: string (nullable = true)\n",
      " |-- state: string (nullable = true)\n",
      " |-- state_province: string (nullable = true)\n",
      " |-- street: string (nullable = true)\n",
      " |-- website_url: string (nullable = true)\n",
      " |-- address: string (nullable = false)\n",
      "\n",
      "+------------------------------------+-----------------------------------------+-----------------------------+-------------------------------------------------------+-------------+----------------+-----------+\n",
      "|id                                  |name                                     |street                       |address                                                |city         |state           |country    |\n",
      "+------------------------------------+-----------------------------------------+-----------------------------+-------------------------------------------------------+-------------+----------------+-----------+\n",
      "|94afa064-fd4d-422e-8490-b87eeeb22b5a|노매딕 브루잉 컴퍼니(Nomadic Brewing Co.)|12-10, Jeollagamyeong 3-gil  |12-10, Jeollagamyeong 3-gil, Wansan-gu                 |Jeonju-si    |Jeollabukdo     |South Korea|\n",
      "|71a7d2ab-a710-4c5e-923f-1e08161b659e|라미브루잉(Rami Brewing)                 |177, Samgwi-ro               |177, Samgwi-ro, Seongsan-gu                            |Changwon-si  |Gyeongsangnamdo |South Korea|\n",
      "|419822d1-2c04-4a47-adc3-e17747e7bdb7|매직트리 브루어리(Magictree Brewery)     |39, Baengnyeong-ro           |39, Baengnyeong-ro, Cheoin-gu                          |Yongin-si    |Gyeonggido      |South Korea|\n",
      "|37ce8020-c9d0-421c-a255-381f946a2a82|바네하임 브루어리(Vaneheim Brewery)      |65-1, Naegak 1-ro 73beon-gil |65-1, Naegak 1-ro 73beon-gil, Jinjeop-eup              |Namyangju-si |Gyeonggido      |South Korea|\n",
      "|3a89c7d1-cddb-4036-af38-a95b2b9a08bd|바이젠하우스(WeizenHouse)                |125,Seonggok-gil             |125,Seonggok-gil, Useong-myeon                         |Gongju-si    |Chungcheongnamdo|South Korea|\n",
      "|41bf9f06-ce1a-43b2-9e05-af3862488092|부산프라이드 브루잉(Busanpride Brewery)  |84-2, Dongseo-gil            |84-2, Dongseo-gil, Gijang-eup                          |Gijang-eup   |Busan           |South Korea|\n",
      "|b38a706c-f137-4c9f-8f9e-4d26332e86a4|순성양조장(Sunseong Brewery)             |394, Maesil-ro               |394, Maesil-ro, Sunseong-myeon                         |Dangjin-si   |Chungcheongnamdo|South Korea|\n",
      "|e706c6ba-82d4-4099-adb8-83054ae146ed|아리랑 브루어리(Alilang-Brewery)         |26-55, Yemi 2-gil            |26-55, Yemi 2-gil, Sindong-eup                         |Jeongseon-gun|Gangwondo       |South Korea|\n",
      "|99fdc1ac-a3ae-4754-8467-ed70f03c9048|안동브루어리(Andong Brewing Co.)         |98, Goejeong 2-gil,          |98, Goejeong 2-gil,, Pungsan-eup                       |Andong-si    |Gyeongsangbukdo |South Korea|\n",
      "|5215f56d-865c-4e1a-ac01-6588a2bf05cc|Burren Brewery                           |Kincora Rd                   |Kincora Rd, Rathbaun                                   |Lisdoonvarna |Clare           |Ireland    |\n",
      "|f4df6f7e-2332-45e8-98c2-0e917a2177ad|Bute Brew Co                             |15-17 Columshill Street      |15-17 Columshill Street, Rothesay                      |Isle of Bute |Bute            |Scotland   |\n",
      "|6d35da2a-ee38-4b85-ba89-0cfd1180e4f5|Café Football                            |920 East Coast Park          |920 East Coast Park, Parkland Green, #01-28            |Singapore    |Singapore       |Singapore  |\n",
      "|0acbc5f2-6427-46e0-8302-7c26017975ec|Café Wolfgang Ranner                     |20 Eastwood Road             |20 Eastwood Road, Eastwood Centre, #01-06              |Singapore    |Singapore       |Singapore  |\n",
      "|44684d87-a612-43d1-9eda-afd9357f3af1|Donegal Brewing Company                  |Unit 1 Erneside Business Park|Unit 1 Erneside Business Park, Portnason               |Ballyshannon |Donegal         |Ireland    |\n",
      "|beb3aa65-0024-42a1-8943-74017faed659|DOT Brew                                 |9 Dolphin's Barn             |9 Dolphin's Barn, Ushers                               |Dublin       |Dublin          |Ireland    |\n",
      "|58336544-2f7c-4a30-8e39-d796906b3055|Praxis                                   |Urbanização Quinta da Várzea |Urbanização Quinta da Várzea, Lote 29                  |Santa Clara  |Coimbra         |Portugal   |\n",
      "|e2fde1d1-117d-4d92-8e0d-ad638d9d8152|The Franciscan Well Brewery              |Riverpark House              |Riverpark House, Marina Commercial Park, Centre Park Rd|Cork         |Cork            |Ireland    |\n",
      "|d9ab395a-affc-4c9d-bb05-244aeda12cdf|Galway Bay Brewery                       |Carrowmoneash                |Carrowmoneash, Station Rd                              |Oranmore     |Galway          |Ireland    |\n",
      "|8078ec7c-ac31-421e-b073-4bb9f784c0cb|Munster Brewery                          |Unit 2F                      |Unit 2F, Youghal Business Park, Parkmountain           |Youghal      |Cork            |Ireland    |\n",
      "|29f0a24d-a6b6-4b3b-999f-37ae825c6e5e|Islay Ales                               |Islay House Square           |Islay House Square, Bridgend                           |Isle of Islay|Argyll          |Scotland   |\n",
      "+------------------------------------+-----------------------------------------+-----------------------------+-------------------------------------------------------+-------------+----------------+-----------+\n",
      "only showing top 20 rows\n",
      "\n"
     ]
    }
   ],
   "source": [
    "\n",
    "\n",
    "\n",
    "\n",
    "df_transformed = handle_addresses(df)\n",
    "df_transformed.printSchema()\n",
    "\n",
    "fields = [\"id\", \"name\", \"street\", \"address\", \"city\", \"state\", \"country\"]\n",
    "df_transformed.select(*fields).filter(col(\"street\") != col(\"address\")).show(20, False)"
   ]
  },
  {
   "cell_type": "code",
   "execution_count": 15,
   "id": "239722b3-4dd7-487b-a0d5-4d2d99563e5b",
   "metadata": {},
   "outputs": [
    {
     "name": "stderr",
     "output_type": "stream",
     "text": [
      "                                                                                \r"
     ]
    },
    {
     "name": "stdout",
     "output_type": "stream",
     "text": [
      "+---------+---------+---------+------------+----+-------+---+--------+---------+----+-----+-----------+-----+--------------+------+-----------+\n",
      "|address_1|address_2|address_3|brewery_type|city|country| id|latitude|longitude|name|phone|postal_code|state|state_province|street|website_url|\n",
      "+---------+---------+---------+------------+----+-------+---+--------+---------+----+-----+-----------+-----+--------------+------+-----------+\n",
      "+---------+---------+---------+------------+----+-------+---+--------+---------+----+-----+-----------+-----+--------------+------+-----------+\n",
      "\n"
     ]
    }
   ],
   "source": [
    "df.filter(col(\"street\") != col(\"address_1\")).show()"
   ]
  },
  {
   "cell_type": "code",
   "execution_count": null,
   "id": "1d0158ed-fd20-48f4-977f-3de68096479d",
   "metadata": {},
   "outputs": [],
   "source": []
  }
 ],
 "metadata": {
  "kernelspec": {
   "display_name": "Python 3 (ipykernel)",
   "language": "python",
   "name": "python3"
  },
  "language_info": {
   "codemirror_mode": {
    "name": "ipython",
    "version": 3
   },
   "file_extension": ".py",
   "mimetype": "text/x-python",
   "name": "python",
   "nbconvert_exporter": "python",
   "pygments_lexer": "ipython3",
   "version": "3.11.9"
  }
 },
 "nbformat": 4,
 "nbformat_minor": 5
}
